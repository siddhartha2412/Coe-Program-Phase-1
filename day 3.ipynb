{
 "cells": [
  {
   "cell_type": "code",
   "execution_count": null,
   "id": "b6c62c19",
   "metadata": {},
   "outputs": [],
   "source": [
    "num = int(input())\n",
    "count =0\n",
    "while num>=0:\n",
    "    count = count + 1\n",
    "    num = num//10\n",
    "print(count)"
   ]
  },
  {
   "cell_type": "code",
   "execution_count": 2,
   "id": "32657606",
   "metadata": {},
   "outputs": [
    {
     "name": "stdout",
     "output_type": "stream",
     "text": [
      "57642\n",
      "even : 3\n",
      "odd : 2\n"
     ]
    }
   ],
   "source": [
    "#count the no. of even and odd digits in the integer\n",
    "num = int(input())\n",
    "even = 0 \n",
    "odd =0\n",
    "while num!=0:\n",
    "    digit = num % 10 \n",
    "    num = num//10\n",
    "    if digit%2 == 0:\n",
    "        even += 1\n",
    "    else :\n",
    "        odd += 1\n",
    "print(\"even :\",even)\n",
    "print(\"odd :\",odd)"
   ]
  },
  {
   "cell_type": "code",
   "execution_count": 3,
   "id": "832def2c",
   "metadata": {},
   "outputs": [
    {
     "name": "stdout",
     "output_type": "stream",
     "text": [
      "54734\n",
      "even : 8\n",
      "odd : 15\n"
     ]
    }
   ],
   "source": [
    "#find the sum of even and odd digits in the integer\n",
    "num = int(input())\n",
    "even = 0 \n",
    "odd =0\n",
    "while num!=0:\n",
    "    digit = num % 10 \n",
    "    num = num//10\n",
    "    if digit%2 == 0:\n",
    "        even += digit\n",
    "    else :\n",
    "        odd += digit\n",
    "print(\"even :\",even)\n",
    "print(\"odd :\",odd)"
   ]
  },
  {
   "cell_type": "code",
   "execution_count": 43,
   "id": "f9b54a32",
   "metadata": {},
   "outputs": [
    {
     "name": "stdout",
     "output_type": "stream",
     "text": [
      "2 3 5 7 11 13 17 19 23 29 31 37 41 43 47 53 59 61 67 71 73 79 83 89 97 "
     ]
    }
   ],
   "source": [
    "#prime no. between 1 and 100 using while loop\n",
    "num=100\n",
    "\n",
    "i=2\n",
    "while i<=100:\n",
    "    j=1\n",
    "    count =0\n",
    "    while j<=i:\n",
    "        if i%j==0:\n",
    "            count += 1\n",
    "        j += 1\n",
    "    if count == 2:\n",
    "        print(i,end = \" \")\n",
    "    \n",
    "    i += 1"
   ]
  },
  {
   "cell_type": "code",
   "execution_count": 44,
   "id": "dd7ce6f3",
   "metadata": {},
   "outputs": [
    {
     "name": "stdout",
     "output_type": "stream",
     "text": [
      "2 3 5 7 11 13 17 19 23 29 31 37 41 43 47 53 59 61 67 71 73 79 83 89 97 "
     ]
    }
   ],
   "source": [
    "#prime no. between 1 and 100 using while loop\n",
    "num=100\n",
    "\n",
    "i=2\n",
    "while i<=100:\n",
    "    j=1\n",
    "    count =0\n",
    "    while j<=i**(0.5):\n",
    "        if i%j==0:\n",
    "            count += 1\n",
    "        j += 1\n",
    "    if count == 1:\n",
    "        print(i,end = \" \")\n",
    "    \n",
    "    i += 1"
   ]
  },
  {
   "cell_type": "markdown",
   "id": "6926dcff",
   "metadata": {},
   "source": []
  },
  {
   "cell_type": "code",
   "execution_count": 27,
   "id": "4f102225",
   "metadata": {},
   "outputs": [
    {
     "name": "stdout",
     "output_type": "stream",
     "text": [
      "digits: 4\n",
      "alpha 35\n",
      "space 11\n",
      "splchr 6\n",
      "vowel 12\n",
      "sentence 5\n"
     ]
    }
   ],
   "source": [
    "str = '''Hi hello 7676 this *$&$# is sid.\n",
    "tom\n",
    "jerry\n",
    "mickey\n",
    "goofy\n",
    "'''\n",
    "digits = 0\n",
    "alpha = 0\n",
    "space = 0\n",
    "splchr = 0\n",
    "sentence =0\n",
    "vowel =0\n",
    "str.lower()\n",
    "vowels = ['a','e','i','o','u']\n",
    "for _ in str:\n",
    "    if _.isdigit():\n",
    "        digits += 1\n",
    "    elif _.isalpha():\n",
    "        alpha += 1\n",
    "        if _ in vowels:\n",
    "            vowel += 1\n",
    "    elif _.isspace():\n",
    "        space += 1\n",
    "    else :\n",
    "        splchr +=1\n",
    "    if _ ==\"\\n\":\n",
    "        sentence+=1\n",
    "print(\"digits:\",digits)\n",
    "print(\"alpha\",alpha)\n",
    "print(\"space\",space)\n",
    "print(\"splchr\",splchr)\n",
    "print(\"vowel\",vowel)\n",
    "print(\"sentence\",sentence)"
   ]
  },
  {
   "cell_type": "code",
   "execution_count": 1,
   "id": "fc843924",
   "metadata": {},
   "outputs": [
    {
     "name": "stdout",
     "output_type": "stream",
     "text": [
      "True\n",
      "True\n"
     ]
    }
   ],
   "source": [
    "str = \"Hello this is nagul haii mickey hai  nagarjuna\"\n",
    "print(str.endswith(\"arjuna\"))\n",
    "print(str.startswith(\"Hell\"))\n"
   ]
  }
 ],
 "metadata": {
  "kernelspec": {
   "display_name": "Python 3 (ipykernel)",
   "language": "python",
   "name": "python3"
  },
  "language_info": {
   "codemirror_mode": {
    "name": "ipython",
    "version": 3
   },
   "file_extension": ".py",
   "mimetype": "text/x-python",
   "name": "python",
   "nbconvert_exporter": "python",
   "pygments_lexer": "ipython3",
   "version": "3.10.9"
  }
 },
 "nbformat": 4,
 "nbformat_minor": 5
}
