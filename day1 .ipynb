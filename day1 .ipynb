{
 "cells": [
  {
   "cell_type": "code",
   "execution_count": 12,
   "id": "792cb065",
   "metadata": {},
   "outputs": [
    {
     "name": "stdout",
     "output_type": "stream",
     "text": [
      "enter internal score50\n",
      "enter external score50\n",
      "enter project score50\n",
      "your score is 50.0\n",
      "D\n"
     ]
    }
   ],
   "source": [
    "internal=int(input(\"enter internal score\"))\n",
    "external=int(input(\"enter external score\"))\n",
    "project=int(input(\"enter project score\"))\n",
    "if project >= 50 and internal >=50 and external >= 50:\n",
    "    score=float((10/100)*internal)+float((20/100)*external)+float((70/100)*project)\n",
    "    print(f\"your score is {score}\")\n",
    "    if score>90:\n",
    "        print(\"A\")\n",
    "    elif score >70 :\n",
    "        print(\"B\")\n",
    "    else:\n",
    "        print(\"C\")\n",
    "else :\n",
    "    if internal < 50:\n",
    "        print(\"you failed in internal\")\n",
    "    if external < 50:\n",
    "        print(\"you failed in external\")\n",
    "    if project <50:\n",
    "        print(\"you failed in project\")"
   ]
  },
  {
   "cell_type": "code",
   "execution_count": 27,
   "id": "8c8569d6",
   "metadata": {},
   "outputs": [
    {
     "name": "stdout",
     "output_type": "stream",
     "text": [
      "enter previous units65\n",
      "enter present units130\n",
      "42.775\n"
     ]
    }
   ],
   "source": [
    "prev=int(input(\"enter previous units\"))\n",
    "pres =int(input(\"enter present units\"))\n",
    "units = pres-prev\n",
    "if units <= 50 :\n",
    "    charge = 0.5 * units\n",
    "    units=0\n",
    "else :\n",
    "    charge = 0.5 * 50 \n",
    "    units = units - 50\n",
    "    if  units <100 :\n",
    "        charge  = charge +(0.75 * units)\n",
    "        units =0\n",
    "    else :\n",
    "        charge =charge+(0.75 * 100)\n",
    "        units = units - 100\n",
    "        if   units <100 :\n",
    "            charge  = charge +(1.25 * units)\n",
    "            units =0\n",
    "        else :\n",
    "            charge =charge+(1.25 * 100)\n",
    "            units = units - 100\n",
    "            if units>0:\n",
    "                charge = charge + (2.5 * units)\n",
    "charge =charge +(charge*18)/100\n",
    "print(charge)"
   ]
  },
  {
   "cell_type": "code",
   "execution_count": 3,
   "id": "d7ce0a53",
   "metadata": {},
   "outputs": [
    {
     "name": "stdout",
     "output_type": "stream",
     "text": [
      "Enter Prev units65\n",
      "Enter Pres units130\n",
      "42.775\n"
     ]
    }
   ],
   "source": [
    "#solution \n",
    "prev=int(input(\"Enter Prev units\"))\n",
    "\n",
    "pres=int(input(\"Enter Pres units\"))\n",
    " \n",
    "units=pres-prev   \n",
    "\n",
    "bill=0\n",
    "\n",
    "if units<=50:\n",
    "\n",
    "    bill=units*0.50\n",
    "\n",
    "elif units<=150:\n",
    "\n",
    "    bill= 50*0.50+(units-50)*0.75\n",
    "\n",
    "elif units<=250:\n",
    "\n",
    "    bill=50*0.50+(100*0.75)+(units-150)*1.25\n",
    "\n",
    "else:\n",
    "\n",
    "    bill=50*0.50+(100*0.75)+(100*1.25)+(units-250)*2.50\n",
    " \n",
    " \n",
    "bill=bill+(bill*18)/100\n",
    "print(bill)"
   ]
  },
  {
   "cell_type": "code",
   "execution_count": 3,
   "id": "795c72bf",
   "metadata": {},
   "outputs": [
    {
     "name": "stdout",
     "output_type": "stream",
     "text": [
      "festival (yes/no)no\n",
      "enter order :\n",
      "1: veg : 150\n",
      "2: non-veg : 200\n",
      "3: combo : 300\n",
      "1 2 2 3 3 3\n",
      "your bill is 1522.5 with a free dessert\n"
     ]
    }
   ],
   "source": [
    "# 1. Food – Smart Restaurant Billing with Meal Plans\n",
    "# Scenario:\n",
    "# A restaurant offers multiple meal plans (Veg, Non-Veg, Combo) and discounts on festivals.\n",
    " \n",
    "# Requirements:\n",
    " \n",
    "# Take user input: meal type, quantity, is today a festival (yes/no)\n",
    " \n",
    "# Pricing:\n",
    " \n",
    "# Veg: ₹150\n",
    " \n",
    "# Non-Veg: ₹200\n",
    " \n",
    "# Combo: ₹300\n",
    " \n",
    "# Festival day → 10% discount\n",
    " \n",
    "# If total bill > ₹1000 → add free dessert\n",
    " \n",
    "# Add 5% GST on total\n",
    "\n",
    "festival = input(\"festival (yes/no)\")\n",
    "print(\"enter order :\")\n",
    "print(\"1: veg : 150\")\n",
    "print(\"2: non-veg : 200\")\n",
    "print(\"3: combo : 300\")\n",
    "bill =0\n",
    "\n",
    "order = list(map(int,input().split()))\n",
    "for i in order :\n",
    "    if i == 1:\n",
    "        bill = bill + 150\n",
    "    elif i == 2:\n",
    "        bill = bill + 200\n",
    "    else :\n",
    "        bill = bill + 300\n",
    "if festival ==\"yes\":\n",
    "    bill=bill-(bill*10)/100\n",
    "if bill>1000:\n",
    "    order.append(4) # d for dessert\n",
    "bill = bill + (bill*5)/100\n",
    "if bill>1000:\n",
    "    print(f'your bill is {bill} with a free dessert')\n",
    "else :\n",
    "    print(\"you bill is \",bill)"
   ]
  },
  {
   "cell_type": "code",
   "execution_count": null,
   "id": "5bca16c5",
   "metadata": {},
   "outputs": [],
   "source": [
    "# 2. Education – Scholarship Eligibility Evaluator\n",
    "\n",
    "# Scenario:\n",
    "\n",
    "# University grants scholarships based on students’ marks and family income.\n",
    " \n",
    "# Requirements:\n",
    " \n",
    "# Input: student name, % in 10th, 12th, UG, family income\n",
    " \n",
    "# Rules:\n",
    " \n",
    "# 85% in all and income < 3 LPA → Full Scholarship\n",
    " \n",
    "# 70% in UG and income < 5 LPA → Partial Scholarship\n",
    " \n",
    "# Else → Not eligible\n",
    "\n",
    "name = input()\n",
    "_10 = int(input(\"enter 10th %\"))\n",
    "_12 = int(input(\"enter 12th %\"))\n",
    "ug = int(input(\"enter ug %\"))\n",
    "family_income = float(input(\"Enter family income (in lpa)\"))\n",
    "if _10 >= 85 and _12 >= 85 and ug >=85 and family_income <= 3:\n",
    "    print(\"eligible for full scholarship\")\n",
    "elif ug>=70 and family_income < 5:\n",
    "    print(\"Eligible for partial scholarship\")\n",
    "else :\n",
    "    print(\"Not eligible\")"
   ]
  },
  {
   "cell_type": "code",
   "execution_count": 6,
   "id": "b9b6b8b5",
   "metadata": {},
   "outputs": [
    {
     "name": "stdout",
     "output_type": "stream",
     "text": [
      "enter no. of family members4\n",
      "enter annual income (in LPA)2\n",
      "Rural /UrbanRural\n",
      "Eligible\n"
     ]
    }
   ],
   "source": [
    "# 3. Government – Ration Card Eligibility Checker\n",
    "# Scenario:\n",
    "# The government checks if a family is eligible for subsidized ration based on income, family size, and location.\n",
    " \n",
    "# Requirements:\n",
    " \n",
    "# Input: number of family members, annual income, rural or urban\n",
    " \n",
    "# Conditions:\n",
    " \n",
    "# Rural + income < 2.5 LPA + >3 members → Eligible\n",
    " \n",
    "# Urban + income < 2 LPA + >4 members → Eligible\n",
    " \n",
    "# Else → Not eligible\n",
    "family_members = int(input(\"enter no. of family members\"))\n",
    "annual_income = float(input(\"enter annual income (in LPA)\"))\n",
    "loc = input(\"Rural /Urban\")\n",
    "if loc == 'Rural' and annual_income <2.5 and family_members > 3 :\n",
    "    print(\"Eligible\")\n",
    "elif loc == \"Urban\" and annual_income < 2 and family_members > 4 :\n",
    "    print(\"Eligible\")\n",
    "else :\n",
    "    print(\"Not eligible\")"
   ]
  },
  {
   "cell_type": "code",
   "execution_count": null,
   "id": "7ed747bb",
   "metadata": {},
   "outputs": [],
   "source": []
  },
  {
   "cell_type": "code",
   "execution_count": null,
   "id": "79be04d2",
   "metadata": {},
   "outputs": [],
   "source": []
  },
  {
   "cell_type": "code",
   "execution_count": null,
   "id": "bc61a0a5",
   "metadata": {},
   "outputs": [],
   "source": []
  },
  {
   "cell_type": "code",
   "execution_count": null,
   "id": "c8b27ba0",
   "metadata": {},
   "outputs": [],
   "source": []
  },
  {
   "cell_type": "code",
   "execution_count": null,
   "id": "4198f37f",
   "metadata": {},
   "outputs": [],
   "source": []
  }
 ],
 "metadata": {
  "kernelspec": {
   "display_name": "Python 3 (ipykernel)",
   "language": "python",
   "name": "python3"
  },
  "language_info": {
   "codemirror_mode": {
    "name": "ipython",
    "version": 3
   },
   "file_extension": ".py",
   "mimetype": "text/x-python",
   "name": "python",
   "nbconvert_exporter": "python",
   "pygments_lexer": "ipython3",
   "version": "3.10.9"
  }
 },
 "nbformat": 4,
 "nbformat_minor": 5
}
