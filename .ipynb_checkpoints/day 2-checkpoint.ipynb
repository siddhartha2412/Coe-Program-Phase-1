{
 "cells": [
  {
   "cell_type": "code",
   "execution_count": null,
   "id": "b9a5c4c7",
   "metadata": {},
   "outputs": [],
   "source": []
  },
  {
   "cell_type": "code",
   "execution_count": null,
   "id": "68959bee",
   "metadata": {},
   "outputs": [],
   "source": [
    "#float to int\n",
    "b=90.0\n",
    "a=int(b)\n",
    "print(a)\n",
    "#str to int\n",
    "c=\"90\"\n",
    "d=int(c)\n",
    "print(d)\n",
    "#int to str\n",
    "e=89\n",
    "g=str(e)\n",
    "print(g)\n",
    "#float to str\n",
    "f=8.9\n",
    "h=str(f)\n",
    "print(h)\n",
    "print(type(g))\n",
    "print(type(h))"
   ]
  },
  {
   "cell_type": "raw",
   "id": "8e53a9a7",
   "metadata": {},
   "source": [
    "# Task 1:\n",
    "\n",
    "# Accept Basic salary and find gross salary. \n",
    "# Gross salary =Basic salary+ DA + HRA\n",
    "\n",
    "# # if basic salary is less than 20000 then HRA is 76% and DA is 78% on Basic salary\n",
    "\n",
    "# # if basic salary is between 20000 to 30000 then HRA is 79% and DA is 82% on Basic salary\n",
    "\n",
    "# # if basic salary is more than 30000 then HRA is 85% and DA is 89% on Basic salary\n"
   ]
  },
  {
   "cell_type": "code",
   "execution_count": 6,
   "id": "24fb8209",
   "metadata": {},
   "outputs": [
    {
     "name": "stdout",
     "output_type": "stream",
     "text": [
      "Enter basic salary25000\n",
      "65250\n"
     ]
    }
   ],
   "source": [
    "basic_salary = int(input(\"Enter basic salary\"))\n",
    "if basic_salary < 0 :\n",
    "    print(\"Enter valid salary\")\n",
    "elif basic_salary<=20000 :\n",
    "    HRA = int((basic_salary*76)/100)\n",
    "    DA = int((basic_salary*78)/100)\n",
    "elif basic_salary <= 30000 :\n",
    "    HRA = int((basic_salary*79)/100)\n",
    "    DA = int((basic_salary*82)/100) \n",
    "else :\n",
    "    HRA = int((basic_salary*85)/100)\n",
    "    DA = int((basic_salary*89)/100) \n",
    "    \n",
    "gross_salary = basic_salary + HRA + DA\n",
    "print(gross_salary)"
   ]
  },
  {
   "cell_type": "markdown",
   "id": "19e6c738",
   "metadata": {},
   "source": [
    "---\n",
    "\n",
    "TDS Calculation Based on Salary\n",
    "\n",
    "1. Salary ≤ ₹5,00,000\n",
    "\n",
    "TDS: 0%\n",
    "\n",
    "\n",
    "2. ₹5,00,001 to ₹10,00,000\n",
    "\n",
    "₹5,00,001 to ₹7,00,000: 5%\n",
    "\n",
    "₹7,00,001 to ₹10,00,000: 10%\n",
    "\n",
    "\n",
    "3. ₹10,00,001 to ₹20,00,000\n",
    "\n",
    "₹5,00,001 to ₹7,00,000: 5%\n",
    "\n",
    "₹7,00,001 to ₹10,00,000: 10%\n",
    "\n",
    "₹10,00,001 to ₹15,00,000: 15%\n",
    "\n",
    "₹15,00,001 to ₹20,00,000: 20%\n",
    "\n",
    "\n",
    "4. ₹20,00,001 to ₹30,00,000\n",
    "\n",
    "Same slabs apply:\n",
    "\n",
    "₹5,00,001 to ₹7,00,000: 5%\n",
    "\n",
    "₹7,00,001 to ₹10,00,000: 10%\n",
    "\n",
    "₹10,00,001 to ₹15,00,000: 15%\n",
    "\n",
    "₹15,00,001 to ₹20,00,000: 20%\n",
    "\n",
    "₹20,00,001 to ₹30,00,000: 30%\n",
    "\n",
    "\n",
    "\n",
    "5. Salary > ₹30,00,000\n",
    "\n",
    "Use same slab rates up to ₹30,00,000\n",
    "\n",
    "Amount above ₹30,00,000: 30%\n",
    "\n",
    "\n",
    "\n",
    "---\n",
    "\n",
    "        "
   ]
  },
  {
   "cell_type": "code",
   "execution_count": 5,
   "id": "3de3144f",
   "metadata": {},
   "outputs": [
    {
     "name": "stdout",
     "output_type": "stream",
     "text": [
      "Enter salary: 2300000\n",
      "TDS to be deducted: ₹305000.0\n"
     ]
    }
   ],
   "source": [
    "salary = int(input(\"Enter salary: \"))\n",
    "tds = 0\n",
    "\n",
    "if salary <= 500000:\n",
    "    tds = 0\n",
    "\n",
    "elif salary <= 1000000:\n",
    "    if salary <= 700000:\n",
    "        salary_ = salary - 500000\n",
    "        tds += (salary_*5)/100\n",
    "    else:\n",
    "        salary_ = salary - 700000\n",
    "        tds += (200000*5)/100+(salary_*10)/100\n",
    "\n",
    "elif salary <= 2000000:\n",
    "    if salary <= 1500000:\n",
    "        salary_ = salary - 1000000\n",
    "        tds += (200000*5)/100 + (300000*10)/100 + (salary_*15)/100\n",
    "    else:\n",
    "        salary_ = salary - 1500000\n",
    "        tds += (200000*5)/100 + (300000*10)/100 + (500000*15)/100 + (salary_*20)/100\n",
    "\n",
    "else:\n",
    "    salary_ = salary - 2000000\n",
    "    tds += (200000*5)/100 + (300000*10)/100 + (500000*15)/100 + (500000*20)/100 + (salary_*30)/100\n",
    "\n",
    "print(f\"TDS to be deducted: {round(tds, 2)}\")\n"
   ]
  }
 ],
 "metadata": {
  "kernelspec": {
   "display_name": "Python 3 (ipykernel)",
   "language": "python",
   "name": "python3"
  },
  "language_info": {
   "codemirror_mode": {
    "name": "ipython",
    "version": 3
   },
   "file_extension": ".py",
   "mimetype": "text/x-python",
   "name": "python",
   "nbconvert_exporter": "python",
   "pygments_lexer": "ipython3",
   "version": "3.10.9"
  }
 },
 "nbformat": 4,
 "nbformat_minor": 5
}
